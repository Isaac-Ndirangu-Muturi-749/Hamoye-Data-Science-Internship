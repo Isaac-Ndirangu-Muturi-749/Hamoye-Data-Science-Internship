{
 "cells": [
  {
   "cell_type": "markdown",
   "metadata": {},
   "source": [
    "## Time Series Forecasting for Electric Power Consumption\n",
    "\n",
    "### Data Set Information:\n",
    "\n",
    "**Data Link:** [Individual Household Electric Power Consumption](https://archive.ics.uci.edu/ml/datasets/individual+household+electric+power+consumption)\n",
    "\n",
    "This archive contains 2,075,259 measurements gathered between December 2006 and November 2010 (47 months).\n",
    "\n",
    "#### Notes:\n",
    "\n",
    "1. `(globalactivepower*1000/60 - submetering1 - submetering2 - submetering3)` represents the active energy consumed every minute (in watt-hour) in the household by electrical equipment not measured in sub-meterings 1, 2, and 3.\n",
    "\n",
    "2. The dataset contains some missing values in the measurements (nearly 1.25% of the rows). All calendar timestamps are present in the dataset, but for some timestamps, the measurement values are missing. A missing value is represented by the absence of a value between two consecutive semi-colon attribute separators. For instance, the dataset shows missing values on April 28, 2007.\n",
    "\n",
    "### Attribute Information:\n",
    "\n",
    "- **date:** Date in format dd/mm/yyyy\n",
    "- **time:** Time in format hh:mm:ss\n",
    "- **globalactivepower:** Household global minute-averaged active power (in kilowatt)\n",
    "- **globalreactivepower:** Household global minute-averaged reactive power (in kilowatt)\n",
    "- **voltage:** Minute-averaged voltage (in volt)\n",
    "- **global_intensity:** Household global minute-averaged current intensity (in ampere)\n",
    "- **submetering1:** Energy sub-metering No. 1 (in watt-hour of active energy). Corresponds to the kitchen, containing mainly a dishwasher, an oven, and a microwave (hot plates are not electric but gas-powered).\n",
    "- **submetering2:** Energy sub-metering No. 2 (in watt-hour of active energy). Corresponds to the laundry room, containing a washing machine, a tumble-drier, a refrigerator, and a light.\n",
    "- **submetering3:** Energy sub-metering No. 3 (in watt-hour of active energy). Corresponds to an electric water-heater and an air-conditioner."
   ]
  },
  {
   "cell_type": "code",
   "execution_count": 1,
   "metadata": {},
   "outputs": [
    {
     "name": "stdout",
     "output_type": "stream",
     "text": [
      "--2023-11-30 21:10:00--  https://archive.ics.uci.edu/ml/datasets/individual+household+electric+power+consumption\n",
      "Resolving archive.ics.uci.edu (archive.ics.uci.edu)... 128.195.10.252\n",
      "Connecting to archive.ics.uci.edu (archive.ics.uci.edu)|128.195.10.252|:443... connected.\n",
      "HTTP request sent, awaiting response... 302 Found\n",
      "Location: /dataset/235/individual+household+electric+power+consumption [following]\n",
      "--2023-11-30 21:10:02--  https://archive.ics.uci.edu/dataset/235/individual+household+electric+power+consumption\n",
      "Reusing existing connection to archive.ics.uci.edu:443.\n",
      "HTTP request sent, awaiting response... 200 OK\n",
      "Length: 92646 (90K) [text/html]\n",
      "Saving to: ‘individual+household+electric+power+consumption’\n",
      "\n",
      "individual+househol 100%[===================>]  90.47K  86.6KB/s    in 1.0s    \n",
      "\n",
      "2023-11-30 21:10:04 (86.6 KB/s) - ‘individual+household+electric+power+consumption’ saved [92646/92646]\n",
      "\n"
     ]
    }
   ],
   "source": [
    "!wget https://archive.ics.uci.edu/ml/datasets/individual+household+electric+power+consumption"
   ]
  },
  {
   "cell_type": "code",
   "execution_count": 2,
   "metadata": {},
   "outputs": [
    {
     "name": "stdout",
     "output_type": "stream",
     "text": [
      "individual+household+electric+power+consumption  notebook.ipynb\r\n"
     ]
    }
   ],
   "source": [
    "!ls"
   ]
  },
  {
   "cell_type": "code",
   "execution_count": null,
   "metadata": {},
   "outputs": [],
   "source": []
  },
  {
   "cell_type": "code",
   "execution_count": null,
   "metadata": {},
   "outputs": [],
   "source": []
  },
  {
   "cell_type": "code",
   "execution_count": null,
   "metadata": {},
   "outputs": [],
   "source": []
  },
  {
   "cell_type": "code",
   "execution_count": null,
   "metadata": {},
   "outputs": [],
   "source": []
  },
  {
   "cell_type": "code",
   "execution_count": null,
   "metadata": {},
   "outputs": [],
   "source": []
  },
  {
   "cell_type": "code",
   "execution_count": null,
   "metadata": {},
   "outputs": [],
   "source": []
  },
  {
   "cell_type": "code",
   "execution_count": null,
   "metadata": {},
   "outputs": [],
   "source": []
  },
  {
   "cell_type": "markdown",
   "metadata": {},
   "source": [
    "Follow me on Twitter 🐦, connect with me on LinkedIn 🔗, and check out my GitHub 🐙. You won't be disappointed!\n",
    "\n",
    "👉 Twitter: https://twitter.com/NdiranguMuturi1  \n",
    "👉 LinkedIn: https://www.linkedin.com/in/isaac-muturi-3b6b2b237  \n",
    "👉 GitHub: https://github.com/Isaac-Ndirangu-Muturi-749   "
   ]
  }
 ],
 "metadata": {
  "kernelspec": {
   "display_name": "Python 3 (ipykernel)",
   "language": "python",
   "name": "python3"
  },
  "language_info": {
   "codemirror_mode": {
    "name": "ipython",
    "version": 3
   },
   "file_extension": ".py",
   "mimetype": "text/x-python",
   "name": "python",
   "nbconvert_exporter": "python",
   "pygments_lexer": "ipython3",
   "version": "3.11.5"
  }
 },
 "nbformat": 4,
 "nbformat_minor": 2
}
