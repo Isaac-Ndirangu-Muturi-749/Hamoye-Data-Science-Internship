{
 "cells": [
  {
   "cell_type": "markdown",
   "id": "73224555",
   "metadata": {},
   "source": [
    "Name: Isaac Ndirangu Muturi  \n",
    "ID: 179073d77241f000  \n",
    "Email: ndirangumuturi749@gmail.com"
   ]
  },
  {
   "cell_type": "markdown",
   "id": "41d399b3",
   "metadata": {},
   "source": [
    "## load data"
   ]
  },
  {
   "cell_type": "code",
   "execution_count": 1,
   "id": "9b602dc5",
   "metadata": {},
   "outputs": [
    {
     "data": {
      "text/html": [
       "<div>\n",
       "<style scoped>\n",
       "    .dataframe tbody tr th:only-of-type {\n",
       "        vertical-align: middle;\n",
       "    }\n",
       "\n",
       "    .dataframe tbody tr th {\n",
       "        vertical-align: top;\n",
       "    }\n",
       "\n",
       "    .dataframe thead th {\n",
       "        text-align: right;\n",
       "    }\n",
       "</style>\n",
       "<table border=\"1\" class=\"dataframe\">\n",
       "  <thead>\n",
       "    <tr style=\"text-align: right;\">\n",
       "      <th></th>\n",
       "      <th>Area Code</th>\n",
       "      <th>Area</th>\n",
       "      <th>Item Code</th>\n",
       "      <th>Item</th>\n",
       "      <th>Element Code</th>\n",
       "      <th>Element</th>\n",
       "      <th>Unit</th>\n",
       "      <th>Y2014</th>\n",
       "      <th>Y2015</th>\n",
       "      <th>Y2016</th>\n",
       "      <th>Y2017</th>\n",
       "      <th>Y2018</th>\n",
       "    </tr>\n",
       "  </thead>\n",
       "  <tbody>\n",
       "    <tr>\n",
       "      <th>0</th>\n",
       "      <td>4</td>\n",
       "      <td>Algeria</td>\n",
       "      <td>2501</td>\n",
       "      <td>Population</td>\n",
       "      <td>511</td>\n",
       "      <td>Total Population - Both sexes</td>\n",
       "      <td>1000 persons</td>\n",
       "      <td>38924.00</td>\n",
       "      <td>39728.00</td>\n",
       "      <td>40551.00</td>\n",
       "      <td>41389.00</td>\n",
       "      <td>42228.00</td>\n",
       "    </tr>\n",
       "    <tr>\n",
       "      <th>1</th>\n",
       "      <td>4</td>\n",
       "      <td>Algeria</td>\n",
       "      <td>2501</td>\n",
       "      <td>Population</td>\n",
       "      <td>5301</td>\n",
       "      <td>Domestic supply quantity</td>\n",
       "      <td>1000 tonnes</td>\n",
       "      <td>0.00</td>\n",
       "      <td>0.00</td>\n",
       "      <td>0.00</td>\n",
       "      <td>0.00</td>\n",
       "      <td>0.00</td>\n",
       "    </tr>\n",
       "    <tr>\n",
       "      <th>2</th>\n",
       "      <td>4</td>\n",
       "      <td>Algeria</td>\n",
       "      <td>2901</td>\n",
       "      <td>Grand Total</td>\n",
       "      <td>664</td>\n",
       "      <td>Food supply (kcal/capita/day)</td>\n",
       "      <td>kcal/capita/day</td>\n",
       "      <td>3377.00</td>\n",
       "      <td>3379.00</td>\n",
       "      <td>3372.00</td>\n",
       "      <td>3341.00</td>\n",
       "      <td>3322.00</td>\n",
       "    </tr>\n",
       "    <tr>\n",
       "      <th>3</th>\n",
       "      <td>4</td>\n",
       "      <td>Algeria</td>\n",
       "      <td>2901</td>\n",
       "      <td>Grand Total</td>\n",
       "      <td>674</td>\n",
       "      <td>Protein supply quantity (g/capita/day)</td>\n",
       "      <td>g/capita/day</td>\n",
       "      <td>94.90</td>\n",
       "      <td>94.35</td>\n",
       "      <td>94.72</td>\n",
       "      <td>92.82</td>\n",
       "      <td>91.83</td>\n",
       "    </tr>\n",
       "    <tr>\n",
       "      <th>4</th>\n",
       "      <td>4</td>\n",
       "      <td>Algeria</td>\n",
       "      <td>2901</td>\n",
       "      <td>Grand Total</td>\n",
       "      <td>684</td>\n",
       "      <td>Fat supply quantity (g/capita/day)</td>\n",
       "      <td>g/capita/day</td>\n",
       "      <td>80.06</td>\n",
       "      <td>79.36</td>\n",
       "      <td>77.40</td>\n",
       "      <td>80.19</td>\n",
       "      <td>77.28</td>\n",
       "    </tr>\n",
       "  </tbody>\n",
       "</table>\n",
       "</div>"
      ],
      "text/plain": [
       "   Area Code     Area  Item Code         Item  Element Code  \\\n",
       "0          4  Algeria       2501   Population           511   \n",
       "1          4  Algeria       2501   Population          5301   \n",
       "2          4  Algeria       2901  Grand Total           664   \n",
       "3          4  Algeria       2901  Grand Total           674   \n",
       "4          4  Algeria       2901  Grand Total           684   \n",
       "\n",
       "                                  Element             Unit     Y2014  \\\n",
       "0           Total Population - Both sexes     1000 persons  38924.00   \n",
       "1                Domestic supply quantity      1000 tonnes      0.00   \n",
       "2           Food supply (kcal/capita/day)  kcal/capita/day   3377.00   \n",
       "3  Protein supply quantity (g/capita/day)     g/capita/day     94.90   \n",
       "4      Fat supply quantity (g/capita/day)     g/capita/day     80.06   \n",
       "\n",
       "      Y2015     Y2016     Y2017     Y2018  \n",
       "0  39728.00  40551.00  41389.00  42228.00  \n",
       "1      0.00      0.00      0.00      0.00  \n",
       "2   3379.00   3372.00   3341.00   3322.00  \n",
       "3     94.35     94.72     92.82     91.83  \n",
       "4     79.36     77.40     80.19     77.28  "
      ]
     },
     "execution_count": 1,
     "metadata": {},
     "output_type": "execute_result"
    }
   ],
   "source": [
    "import pandas as pd\n",
    "df = pd.read_csv(\"FoodBalanceSheets_E_Africa_NOFLAG.csv\", encoding=\"latin-1\")\n",
    "df.head()"
   ]
  },
  {
   "cell_type": "markdown",
   "id": "d17fec28",
   "metadata": {},
   "source": [
    "## question 1"
   ]
  },
  {
   "cell_type": "code",
   "execution_count": 2,
   "id": "97b4a318",
   "metadata": {},
   "outputs": [
    {
     "name": "stdout",
     "output_type": "stream",
     "text": [
      "No of rows: 60943\n",
      "No of columns: 12\n"
     ]
    }
   ],
   "source": [
    "df_shape = df.shape\n",
    "print(\"No of rows:\", df_shape[0])\n",
    "print(\"No of columns:\", df_shape[1])\n"
   ]
  },
  {
   "cell_type": "markdown",
   "id": "476ef207",
   "metadata": {},
   "source": [
    "## question 2"
   ]
  },
  {
   "cell_type": "code",
   "execution_count": 3,
   "id": "18fd67b7",
   "metadata": {},
   "outputs": [
    {
     "data": {
      "text/plain": [
       "'e'"
      ]
     },
     "execution_count": 3,
     "metadata": {},
     "output_type": "execute_result"
    }
   ],
   "source": [
    "S = [['him', 'sell'], [90, 28, 43]]\n",
    "S[0][1][1]"
   ]
  },
  {
   "cell_type": "markdown",
   "id": "71689560",
   "metadata": {},
   "source": [
    "## question 3"
   ]
  },
  {
   "cell_type": "code",
   "execution_count": 4,
   "id": "34860568",
   "metadata": {},
   "outputs": [
    {
     "ename": "TypeError",
     "evalue": "'tuple' object does not support item assignment",
     "output_type": "error",
     "traceback": [
      "\u001b[1;31m---------------------------------------------------------------------------\u001b[0m",
      "\u001b[1;31mTypeError\u001b[0m                                 Traceback (most recent call last)",
      "Cell \u001b[1;32mIn[4], line 3\u001b[0m\n\u001b[0;32m      1\u001b[0m my_tuppy \u001b[38;5;241m=\u001b[39m (\u001b[38;5;241m1\u001b[39m,\u001b[38;5;241m2\u001b[39m,\u001b[38;5;241m5\u001b[39m,\u001b[38;5;241m8\u001b[39m)\n\u001b[1;32m----> 3\u001b[0m \u001b[43mmy_tuppy\u001b[49m\u001b[43m[\u001b[49m\u001b[38;5;241;43m2\u001b[39;49m\u001b[43m]\u001b[49m \u001b[38;5;241m=\u001b[39m \u001b[38;5;241m6\u001b[39m\n",
      "\u001b[1;31mTypeError\u001b[0m: 'tuple' object does not support item assignment"
     ]
    }
   ],
   "source": [
    "my_tuppy = (1,2,5,8)\n",
    "\n",
    "my_tuppy[2] = 6"
   ]
  },
  {
   "cell_type": "markdown",
   "id": "5f20726f",
   "metadata": {},
   "source": [
    "The error message indicates that you cannot assign a new value to an element of a tuple, as tuples are immutable in Python."
   ]
  },
  {
   "cell_type": "markdown",
   "id": "906eec58",
   "metadata": {},
   "source": [
    "## question 5"
   ]
  },
  {
   "cell_type": "code",
   "execution_count": 5,
   "id": "8e263e13",
   "metadata": {
    "scrolled": true
   },
   "outputs": [
    {
     "data": {
      "text/html": [
       "<div>\n",
       "<style scoped>\n",
       "    .dataframe tbody tr th:only-of-type {\n",
       "        vertical-align: middle;\n",
       "    }\n",
       "\n",
       "    .dataframe tbody tr th {\n",
       "        vertical-align: top;\n",
       "    }\n",
       "\n",
       "    .dataframe thead th {\n",
       "        text-align: right;\n",
       "    }\n",
       "</style>\n",
       "<table border=\"1\" class=\"dataframe\">\n",
       "  <thead>\n",
       "    <tr style=\"text-align: right;\">\n",
       "      <th></th>\n",
       "      <th>Element Code</th>\n",
       "      <th>Y2014</th>\n",
       "      <th>Y2015</th>\n",
       "      <th>Y2016</th>\n",
       "      <th>Y2017</th>\n",
       "      <th>Y2018</th>\n",
       "    </tr>\n",
       "  </thead>\n",
       "  <tbody>\n",
       "    <tr>\n",
       "      <th>Element Code</th>\n",
       "      <td>1.000000</td>\n",
       "      <td>0.024457</td>\n",
       "      <td>0.023889</td>\n",
       "      <td>0.023444</td>\n",
       "      <td>0.024254</td>\n",
       "      <td>0.024279</td>\n",
       "    </tr>\n",
       "    <tr>\n",
       "      <th>Y2014</th>\n",
       "      <td>0.024457</td>\n",
       "      <td>1.000000</td>\n",
       "      <td>0.994647</td>\n",
       "      <td>0.996081</td>\n",
       "      <td>0.995230</td>\n",
       "      <td>0.994872</td>\n",
       "    </tr>\n",
       "    <tr>\n",
       "      <th>Y2015</th>\n",
       "      <td>0.023889</td>\n",
       "      <td>0.994647</td>\n",
       "      <td>1.000000</td>\n",
       "      <td>0.995739</td>\n",
       "      <td>0.988048</td>\n",
       "      <td>0.988208</td>\n",
       "    </tr>\n",
       "    <tr>\n",
       "      <th>Y2016</th>\n",
       "      <td>0.023444</td>\n",
       "      <td>0.996081</td>\n",
       "      <td>0.995739</td>\n",
       "      <td>1.000000</td>\n",
       "      <td>0.992785</td>\n",
       "      <td>0.992757</td>\n",
       "    </tr>\n",
       "    <tr>\n",
       "      <th>Y2017</th>\n",
       "      <td>0.024254</td>\n",
       "      <td>0.995230</td>\n",
       "      <td>0.988048</td>\n",
       "      <td>0.992785</td>\n",
       "      <td>1.000000</td>\n",
       "      <td>0.998103</td>\n",
       "    </tr>\n",
       "    <tr>\n",
       "      <th>Y2018</th>\n",
       "      <td>0.024279</td>\n",
       "      <td>0.994872</td>\n",
       "      <td>0.988208</td>\n",
       "      <td>0.992757</td>\n",
       "      <td>0.998103</td>\n",
       "      <td>1.000000</td>\n",
       "    </tr>\n",
       "  </tbody>\n",
       "</table>\n",
       "</div>"
      ],
      "text/plain": [
       "              Element Code     Y2014     Y2015     Y2016     Y2017     Y2018\n",
       "Element Code      1.000000  0.024457  0.023889  0.023444  0.024254  0.024279\n",
       "Y2014             0.024457  1.000000  0.994647  0.996081  0.995230  0.994872\n",
       "Y2015             0.023889  0.994647  1.000000  0.995739  0.988048  0.988208\n",
       "Y2016             0.023444  0.996081  0.995739  1.000000  0.992785  0.992757\n",
       "Y2017             0.024254  0.995230  0.988048  0.992785  1.000000  0.998103\n",
       "Y2018             0.024279  0.994872  0.988208  0.992757  0.998103  1.000000"
      ]
     },
     "execution_count": 5,
     "metadata": {},
     "output_type": "execute_result"
    }
   ],
   "source": [
    "# Calculate the correlations with 'Element Code' for each year\n",
    "correlations = df[['Element Code', 'Y2014', 'Y2015', 'Y2016', 'Y2017', 'Y2018']].corr()\n",
    "correlations"
   ]
  },
  {
   "cell_type": "code",
   "execution_count": 6,
   "id": "c0c4712b",
   "metadata": {},
   "outputs": [
    {
     "data": {
      "text/plain": [
       "'Y2016'"
      ]
     },
     "execution_count": 6,
     "metadata": {},
     "output_type": "execute_result"
    }
   ],
   "source": [
    "# year with the least correlation\n",
    "correlations['Element Code'].idxmin()"
   ]
  },
  {
   "cell_type": "markdown",
   "id": "b03f2678",
   "metadata": {},
   "source": [
    "## question 8"
   ]
  },
  {
   "cell_type": "markdown",
   "id": "c900c8ce",
   "metadata": {},
   "source": [
    "Question 8\n",
    "Consider the following list of tuples:\n",
    "\n",
    "y = [(2, 4), (7, 8), (1, 5, 9)]\n",
    "\n",
    "How would you assign element 8 from the list to a variable x?"
   ]
  },
  {
   "cell_type": "code",
   "execution_count": null,
   "id": "e6609041",
   "metadata": {},
   "outputs": [],
   "source": [
    "y = [(2, 4), (7, 8), (1, 5, 9)]\n",
    "\n",
    "x = y[1][1]\n",
    "x"
   ]
  },
  {
   "cell_type": "markdown",
   "id": "e37bf2f0",
   "metadata": {},
   "source": [
    "## question 10"
   ]
  },
  {
   "cell_type": "code",
   "execution_count": 8,
   "id": "2b8bb211",
   "metadata": {},
   "outputs": [
    {
     "name": "stdout",
     "output_type": "stream",
     "text": [
      "Mean: 140.9177648602722\n",
      "Standard Deviation: 1671.8623590567995\n"
     ]
    }
   ],
   "source": [
    "\n",
    "mean_2017 = df['Y2017'].mean()\n",
    "std_dev_2017 = df['Y2017'].std()\n",
    "\n",
    "print(\"Mean:\", mean_2017)\n",
    "print(\"Standard Deviation:\", std_dev_2017)\n"
   ]
  },
  {
   "cell_type": "markdown",
   "id": "6b968a49",
   "metadata": {},
   "source": [
    "## question 11"
   ]
  },
  {
   "cell_type": "code",
   "execution_count": 9,
   "id": "7d67e898",
   "metadata": {},
   "outputs": [
    {
     "data": {
      "text/plain": [
       "'Guinea-Bissau'"
      ]
     },
     "execution_count": 9,
     "metadata": {},
     "output_type": "execute_result"
    }
   ],
   "source": [
    "selected_columns = df[['Y2017', 'Area']]\n",
    "area_sum_2017 = selected_columns.groupby('Area')['Y2017'].sum().reset_index()\n",
    "sorted_areas = area_sum_2017.sort_values(by='Y2017', ascending=True)\n",
    "\n",
    "seventh_lowest_area = sorted_areas.iloc[6]['Area']\n",
    "\n",
    "seventh_lowest_area\n"
   ]
  },
  {
   "cell_type": "markdown",
   "id": "c90f5400",
   "metadata": {},
   "source": [
    "## question 12"
   ]
  },
  {
   "cell_type": "code",
   "execution_count": 10,
   "id": "602fd50a",
   "metadata": {},
   "outputs": [
    {
     "data": {
      "text/plain": [
       "array([[89, 63],\n",
       "       [92, 48]])"
      ]
     },
     "execution_count": 10,
     "metadata": {},
     "output_type": "execute_result"
    }
   ],
   "source": [
    "import numpy as np\n",
    "\n",
    "array = np.array([[94, 89, 63],\n",
    "                   [93, 92, 48],\n",
    "                   [92, 94, 56]])\n",
    "\n",
    "# elements in bold and italics\n",
    "array[:2, 1:]\n"
   ]
  },
  {
   "cell_type": "markdown",
   "id": "3e80700e",
   "metadata": {},
   "source": [
    "## question 13"
   ]
  },
  {
   "cell_type": "code",
   "execution_count": 11,
   "id": "f42a8407",
   "metadata": {},
   "outputs": [
    {
     "data": {
      "text/plain": [
       "49"
      ]
     },
     "execution_count": 11,
     "metadata": {},
     "output_type": "execute_result"
    }
   ],
   "source": [
    "total_unique_countries = df['Area'].nunique()\n",
    "\n",
    "total_unique_countries\n"
   ]
  },
  {
   "cell_type": "markdown",
   "id": "b4f226e6",
   "metadata": {},
   "source": [
    "## question 14"
   ]
  },
  {
   "cell_type": "code",
   "execution_count": 12,
   "id": "ea939ae2",
   "metadata": {},
   "outputs": [
    {
     "data": {
      "text/plain": [
       "292836.0"
      ]
     },
     "execution_count": 12,
     "metadata": {},
     "output_type": "execute_result"
    }
   ],
   "source": [
    "\n",
    "element_grouped = df.groupby('Element')['Y2017'].sum()\n",
    "\n",
    "processing_sum_2017 = element_grouped.get('Processing', 0)\n",
    "\n",
    "processing_sum_2017\n"
   ]
  },
  {
   "cell_type": "markdown",
   "id": "ea34ab1d",
   "metadata": {},
   "source": [
    "## question 15"
   ]
  },
  {
   "cell_type": "code",
   "execution_count": null,
   "id": "5afaea8c",
   "metadata": {},
   "outputs": [],
   "source": [
    "\n",
    "wine_sum_2015_2018 = df[['Y2015', 'Y2018']].sum()\n",
    "\n",
    "wine_sum_2015_2018\n"
   ]
  },
  {
   "cell_type": "markdown",
   "id": "b44e5ccf",
   "metadata": {},
   "source": [
    "## question 16"
   ]
  },
  {
   "cell_type": "code",
   "execution_count": null,
   "id": "46a43538",
   "metadata": {},
   "outputs": [],
   "source": [
    "\n",
    "column_2014 = df['Y2014']\n",
    "total_missing_2014 = column_2014.isnull().sum()\n",
    "total_data_points_2014 = column_2014.count()\n",
    "percentage_missing_2014 = (total_missing_2014 / total_data_points_2014) * 100\n",
    "print(f\"Percentage: {percentage_missing_2014:.3f}%\")\n",
    "print(\"Total:\", total_missing_2014)\n"
   ]
  },
  {
   "cell_type": "markdown",
   "id": "59ef65a5",
   "metadata": {},
   "source": [
    "## question 17"
   ]
  },
  {
   "cell_type": "code",
   "execution_count": null,
   "id": "7b4d40b4",
   "metadata": {},
   "outputs": [],
   "source": [
    "\n",
    "years_columns = ['Y2014', 'Y2015', 'Y2016', 'Y2017', 'Y2018']\n",
    "\n",
    "yearly_sum = df[years_columns].sum()\n",
    "\n",
    "year_with_highest_sum = yearly_sum.idxmax()\n",
    "year_with_highest_sum\n"
   ]
  },
  {
   "cell_type": "markdown",
   "id": "07df8517",
   "metadata": {},
   "source": [
    "## question 18"
   ]
  },
  {
   "cell_type": "code",
   "execution_count": null,
   "id": "b33e8217",
   "metadata": {},
   "outputs": [],
   "source": [
    "import pandas as pd\n",
    "\n",
    "Ist = [[35, 'Portugal', 94], [33, 'Argentina', 93], [30, 'Brazil', 92]]\n",
    "col = ['Age', 'Nationality', 'Overall']\n",
    "\n",
    "pd.DataFrame(Ist, columns=col, index=[1, 2, 3])\n"
   ]
  },
  {
   "cell_type": "markdown",
   "id": "9eee8406",
   "metadata": {},
   "source": [
    "# question 19"
   ]
  },
  {
   "cell_type": "code",
   "execution_count": null,
   "id": "11ea8fb1",
   "metadata": {},
   "outputs": [],
   "source": [
    "\n",
    "area_sum = df.groupby('Area').sum()\n",
    "\n",
    "area_with_highest_sum = area_sum['Y2015'].idxmax()\n",
    "\n",
    "area_with_highest_sum\n"
   ]
  },
  {
   "cell_type": "markdown",
   "id": "557d5aed",
   "metadata": {},
   "source": [
    "## question 20"
   ]
  },
  {
   "cell_type": "code",
   "execution_count": null,
   "id": "f96ec3d3",
   "metadata": {},
   "outputs": [],
   "source": [
    "df.Element.value_counts()"
   ]
  },
  {
   "cell_type": "code",
   "execution_count": null,
   "id": "8c88e759",
   "metadata": {},
   "outputs": [],
   "source": [
    "\n",
    "madagascar_2015 = df[(df['Area'] == 'Madagascar') & (df['Element'] == 'Protein supply quantity (g/capita/day)')]['Y2015']\n",
    "\n",
    "total_protein_supply_2015 = madagascar_2015.sum()\n",
    "\n",
    "total_protein_supply_2015\n"
   ]
  },
  {
   "cell_type": "code",
   "execution_count": null,
   "id": "906b7250",
   "metadata": {},
   "outputs": [],
   "source": []
  }
 ],
 "metadata": {
  "kernelspec": {
   "display_name": "learn-env",
   "language": "python",
   "name": "learn-env"
  },
  "language_info": {
   "codemirror_mode": {
    "name": "ipython",
    "version": 3
   },
   "file_extension": ".py",
   "mimetype": "text/x-python",
   "name": "python",
   "nbconvert_exporter": "python",
   "pygments_lexer": "ipython3",
   "version": "3.8.5"
  }
 },
 "nbformat": 4,
 "nbformat_minor": 5
}
